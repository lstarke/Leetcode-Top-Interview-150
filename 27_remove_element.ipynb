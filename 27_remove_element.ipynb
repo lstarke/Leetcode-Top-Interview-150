{
 "cells": [
  {
   "cell_type": "code",
   "execution_count": 51,
   "id": "6e7da7da",
   "metadata": {},
   "outputs": [],
   "source": [
    "# Input\n",
    "nums = [3,2,2,3]\n",
    "val = 3\n",
    "\n",
    "# Output\n",
    "# k=2 Number of elements in nums wich are not equal to val\n",
    "# nums = [2,2,_,_]\n",
    "# return k"
   ]
  },
  {
   "cell_type": "code",
   "execution_count": 59,
   "id": "b77a36db",
   "metadata": {},
   "outputs": [],
   "source": [
    "# Input \n",
    "nums = [0,1,2,2,3,0,4,2]\n",
    "val = 2\n",
    "\n",
    "# Output\n",
    "# k=5 Number of elements in nums wich are not equal to val\n",
    "# nums = [0,1,3,0,4,_,_,_]\n",
    "# return k"
   ]
  },
  {
   "cell_type": "code",
   "execution_count": 60,
   "id": "232f1ce5",
   "metadata": {},
   "outputs": [
    {
     "name": "stdout",
     "output_type": "stream",
     "text": [
      "k=5\n",
      "[0, 1, 3, 0, 4, '_', '_', '_']\n"
     ]
    }
   ],
   "source": [
    "k = 0\n",
    "for i, v in enumerate(nums):\n",
    "    if v == val:\n",
    "        if i == len(nums)-1:\n",
    "            nums[i] = '_'\n",
    "        j = i+1\n",
    "        while j < len(nums):\n",
    "            if nums[j] != '_':\n",
    "                if nums[j] != val:\n",
    "                    nums[i] = nums[j]\n",
    "                    nums[j] = '_'\n",
    "                    j = len(nums)                \n",
    "                else:\n",
    "                    j+=1\n",
    "            else:\n",
    "                j+=1\n",
    "    else:\n",
    "        k+=1\n",
    "\n",
    "\n",
    "for i, v in enumerate(nums):\n",
    "    if v == '_':\n",
    "        j = i+1\n",
    "        while j < len(nums):\n",
    "            if nums[j] != '_':\n",
    "                nums[i] = nums[j]\n",
    "                nums[j] = '_'\n",
    "                j = len(nums)\n",
    "            else:\n",
    "                j+=1\n",
    "\n",
    "# return k\n",
    "print(f\"k={k}\")\n",
    "print(nums)\n"
   ]
  }
 ],
 "metadata": {
  "kernelspec": {
   "display_name": "venv",
   "language": "python",
   "name": "python3"
  },
  "language_info": {
   "codemirror_mode": {
    "name": "ipython",
    "version": 3
   },
   "file_extension": ".py",
   "mimetype": "text/x-python",
   "name": "python",
   "nbconvert_exporter": "python",
   "pygments_lexer": "ipython3",
   "version": "3.12.3"
  }
 },
 "nbformat": 4,
 "nbformat_minor": 5
}
