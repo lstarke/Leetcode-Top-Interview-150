{
 "cells": [
  {
   "cell_type": "code",
   "execution_count": 90,
   "id": "3537afe8",
   "metadata": {},
   "outputs": [],
   "source": [
    "nums1 = [-1,0,0,3,3,3,0,0,0]\n",
    "m = 3\n",
    "nums2 = [1,2,2]\n",
    "n = 3"
   ]
  },
  {
   "cell_type": "code",
   "execution_count": 84,
   "id": "d746c373",
   "metadata": {},
   "outputs": [],
   "source": [
    "nums1 = [1,2,3,0,0,0]\n",
    "m = 3\n",
    "nums2 = [2,5,6]\n",
    "n = 3"
   ]
  },
  {
   "cell_type": "code",
   "execution_count": null,
   "id": "7cc4021f",
   "metadata": {},
   "outputs": [],
   "source": [
    "m1 = len(nums1)\n",
    "# copy elements from nums2 to nums1\n",
    "while n > 0:\n",
    "    nums1[m1-1] = nums2[n-1]\n",
    "    n-=1\n",
    "    m1-=1\n",
    "\n",
    "# sort using bubble sort\n",
    "found_minor = True\n",
    "while found_minor:\n",
    "    found_minor = False\n",
    "    for i, v in enumerate(nums1):        \n",
    "        if i < len(nums1)-1:\n",
    "            if nums1[i+1] < nums1[i]:\n",
    "                found_minor = True\n",
    "                temp = nums1[i]\n",
    "                nums1[i] = nums1[i+1]\n",
    "                nums1[i+1] = temp"
   ]
  },
  {
   "cell_type": "code",
   "execution_count": 92,
   "id": "48392356",
   "metadata": {},
   "outputs": [
    {
     "data": {
      "text/plain": [
       "[-1, 0, 0, 1, 2, 2, 3, 3, 3]"
      ]
     },
     "execution_count": 92,
     "metadata": {},
     "output_type": "execute_result"
    }
   ],
   "source": [
    "nums1"
   ]
  }
 ],
 "metadata": {
  "kernelspec": {
   "display_name": "venv",
   "language": "python",
   "name": "python3"
  },
  "language_info": {
   "codemirror_mode": {
    "name": "ipython",
    "version": 3
   },
   "file_extension": ".py",
   "mimetype": "text/x-python",
   "name": "python",
   "nbconvert_exporter": "python",
   "pygments_lexer": "ipython3",
   "version": "3.12.3"
  }
 },
 "nbformat": 4,
 "nbformat_minor": 5
}
