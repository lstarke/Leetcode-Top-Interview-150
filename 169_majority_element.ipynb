{
 "cells": [
  {
   "cell_type": "code",
   "execution_count": 60,
   "id": "386ada14",
   "metadata": {},
   "outputs": [],
   "source": [
    "nums = [3,3,4]"
   ]
  },
  {
   "cell_type": "code",
   "execution_count": 61,
   "id": "eeb2d89c",
   "metadata": {},
   "outputs": [],
   "source": [
    "count_dict = {}\n",
    "major_count = 0\n",
    "major_atual = -1\n",
    "majority_element = -1\n",
    "for e in nums:\n",
    "    if count_dict.get(e) is not None:\n",
    "        count = count_dict[e]\n",
    "        count_dict[e] = count+1\n",
    "        if count_dict[e] > major_atual:\n",
    "            major_atual = count_dict[e]\n",
    "            majority_element = e\n",
    "    else:\n",
    "        count_dict[e] = 1\n",
    "        if count_dict[e] > major_atual:\n",
    "            major_atual = count_dict[e]\n",
    "            majority_element = e"
   ]
  },
  {
   "cell_type": "code",
   "execution_count": 62,
   "id": "abe8e295",
   "metadata": {},
   "outputs": [
    {
     "data": {
      "text/plain": [
       "{3: 2, 4: 1}"
      ]
     },
     "execution_count": 62,
     "metadata": {},
     "output_type": "execute_result"
    }
   ],
   "source": [
    "count_dict"
   ]
  },
  {
   "cell_type": "code",
   "execution_count": 63,
   "id": "c3e099ec",
   "metadata": {},
   "outputs": [
    {
     "name": "stdout",
     "output_type": "stream",
     "text": [
      "3 2\n"
     ]
    }
   ],
   "source": [
    "print(majority_element, major_atual)"
   ]
  }
 ],
 "metadata": {
  "kernelspec": {
   "display_name": "venv",
   "language": "python",
   "name": "python3"
  },
  "language_info": {
   "codemirror_mode": {
    "name": "ipython",
    "version": 3
   },
   "file_extension": ".py",
   "mimetype": "text/x-python",
   "name": "python",
   "nbconvert_exporter": "python",
   "pygments_lexer": "ipython3",
   "version": "3.12.3"
  }
 },
 "nbformat": 4,
 "nbformat_minor": 5
}
