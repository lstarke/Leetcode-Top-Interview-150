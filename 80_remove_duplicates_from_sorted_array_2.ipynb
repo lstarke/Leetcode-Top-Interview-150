{
 "cells": [
  {
   "cell_type": "code",
   "execution_count": 1,
   "id": "2bc168ac",
   "metadata": {},
   "outputs": [],
   "source": [
    "nums = [1,1,1,2,2,3]"
   ]
  },
  {
   "cell_type": "code",
   "execution_count": null,
   "id": "a20af74d",
   "metadata": {},
   "outputs": [],
   "source": [
    "n_elements = len(nums)-1\n",
    "i = 0\n",
    "unique = 0\n",
    "count = 0\n",
    "while i < n_elements:    \n",
    "    if nums[i] == nums[i+1]:\n",
    "        if count == 2:\n",
    "            nums.pop(i+1)\n",
    "            n_elements-=1\n",
    "        else:\n",
    "            i+=1\n",
    "            count = 2\n",
    "            n_elements-=1\n",
    "    else:\n",
    "        i+=1\n",
    "        count = 0\n",
    "i+=1"
   ]
  }
 ],
 "metadata": {
  "kernelspec": {
   "display_name": "venv",
   "language": "python",
   "name": "python3"
  },
  "language_info": {
   "codemirror_mode": {
    "name": "ipython",
    "version": 3
   },
   "file_extension": ".py",
   "mimetype": "text/x-python",
   "name": "python",
   "nbconvert_exporter": "python",
   "pygments_lexer": "ipython3",
   "version": "3.12.3"
  }
 },
 "nbformat": 4,
 "nbformat_minor": 5
}
